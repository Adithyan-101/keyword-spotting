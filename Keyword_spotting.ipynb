{
  "nbformat": 4,
  "nbformat_minor": 0,
  "metadata": {
    "colab": {
      "provenance": [],
      "authorship_tag": "ABX9TyPnQNUwlCDBvPzNUawdYzdu",
      "include_colab_link": true
    },
    "kernelspec": {
      "name": "python3",
      "display_name": "Python 3"
    },
    "language_info": {
      "name": "python"
    }
  },
  "cells": [
    {
      "cell_type": "markdown",
      "metadata": {
        "id": "view-in-github",
        "colab_type": "text"
      },
      "source": [
        "<a href=\"https://colab.research.google.com/github/Adithyan-101/keyword-spotting/blob/main/Keyword_spotting.ipynb\" target=\"_parent\"><img src=\"https://colab.research.google.com/assets/colab-badge.svg\" alt=\"Open In Colab\"/></a>"
      ]
    },
    {
      "cell_type": "code",
      "execution_count": 1,
      "metadata": {
        "colab": {
          "base_uri": "https://localhost:8080/"
        },
        "id": "phA0cUR0Zycg",
        "outputId": "ae3a3e84-7766-41ff-9674-da2961dddc2d"
      },
      "outputs": [
        {
          "output_type": "stream",
          "name": "stdout",
          "text": [
            "Enter your text1 for keyword spotting:\n",
            "hi my name is adithyan v s , i am an engineering student \n",
            "Keywords: ['s', 'engineering', 'adithyan v s', 'student', 'v']\n"
          ]
        }
      ],
      "source": [
        "import spacy\n",
        "\n",
        "# Load the English model\n",
        "nlp = spacy.load(\"en_core_web_sm\")\n",
        "\n",
        "# Take input from user\n",
        "text1 = input(\"Enter your text1 for keyword spotting:\\n\")\n",
        "\n",
        "# Process the text1\n",
        "doc = nlp(text1)\n",
        "\n",
        "# Extract keywords:\n",
        "# Option 1: NOUNS and PROPER NOUNS\n",
        "pos_keywords = [token.text.lower() for token in doc if token.pos_ in ['NOUN', 'PROPN'] and not token.is_stop]\n",
        "\n",
        "# Option 2: Named Entities (like PERSON, ORG, GPE)\n",
        "ner_keywords = [ent.text.lower() for ent in doc.ents if ent.label_ in ['PERSON', 'ORG', 'GPE']]\n",
        "\n",
        "# Combine and deduplicate\n",
        "final_keywords = list(set(pos_keywords + ner_keywords))\n",
        "\n",
        "print(\"Keywords:\", final_keywords)"
      ]
    }
  ]
}