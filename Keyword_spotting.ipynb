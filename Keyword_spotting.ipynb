{
  "nbformat": 4,
  "nbformat_minor": 0,
  "metadata": {
    "colab": {
      "provenance": [],
      "authorship_tag": "ABX9TyOkvX5mhOrfUPXBd+zsM2Mb",
      "include_colab_link": true
    },
    "kernelspec": {
      "name": "python3",
      "display_name": "Python 3"
    },
    "language_info": {
      "name": "python"
    }
  },
  "cells": [
    {
      "cell_type": "markdown",
      "metadata": {
        "id": "view-in-github",
        "colab_type": "text"
      },
      "source": [
        "<a href=\"https://colab.research.google.com/github/Adithyan-101/keyword-spotting/blob/main/Keyword_spotting.ipynb\" target=\"_parent\"><img src=\"https://colab.research.google.com/assets/colab-badge.svg\" alt=\"Open In Colab\"/></a>"
      ]
    },
    {
      "cell_type": "code",
      "execution_count": null,
      "metadata": {
        "colab": {
          "base_uri": "https://localhost:8080/"
        },
        "id": "phA0cUR0Zycg",
        "outputId": "986595a7-a348-47f8-b194-5f635065cef8"
      },
      "outputs": [
        {
          "output_type": "stream",
          "name": "stdout",
          "text": [
            "Enter your text for keyword spotting:\n",
            "hlo my name is adithyan v s , i am an engineering student at gec idukki. this is my nlp project\n",
            "Keywords: ['s', 'project', 'v', 'student', 'adithyan v s', 'nlp', 'engineering', 'idukki', 'gec']\n"
          ]
        }
      ],
      "source": [
        "import spacy\n",
        "\n",
        "# Load the English model\n",
        "nlp = spacy.load(\"en_core_web_sm\")\n",
        "\n",
        "# Take input from user\n",
        "text = input(\"Enter your text for keyword spotting:\\n\")\n",
        "\n",
        "# Process the text\n",
        "doc = nlp(text)\n",
        "\n",
        "# Extract keywords:\n",
        "# Option 1: NOUNS and PROPER NOUNS\n",
        "pos_keywords = [token.text.lower() for token in doc if token.pos_ in ['NOUN', 'PROPN'] and not token.is_stop]\n",
        "\n",
        "# Option 2: Named Entities (like PERSON, ORG, GPE)\n",
        "ner_keywords = [ent.text.lower() for ent in doc.ents if ent.label_ in ['PERSON', 'ORG', 'GPE']]\n",
        "\n",
        "# Combine and deduplicate\n",
        "final_keywords = list(set(pos_keywords + ner_keywords))\n",
        "\n",
        "print(\"Keywords:\", final_keywords)\n"
      ]
    }
  ]
}